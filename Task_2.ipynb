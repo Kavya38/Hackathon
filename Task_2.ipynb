{
  "nbformat": 4,
  "nbformat_minor": 0,
  "metadata": {
    "colab": {
      "provenance": []
    },
    "kernelspec": {
      "name": "python3",
      "display_name": "Python 3"
    },
    "language_info": {
      "name": "python"
    }
  },
  "cells": [
    {
      "cell_type": "code",
      "execution_count": null,
      "metadata": {
        "id": "ud5hJVtpRDyi"
      },
      "outputs": [],
      "source": [
        "import pandas as pd\n",
        "from sklearn.model_selection import train_test_split\n",
        "from sklearn.preprocessing import StandardScaler, OneHotEncoder\n",
        "from sklearn.impute import SimpleImputer\n",
        "from sklearn.compose import ColumnTransformer\n",
        "from sklearn.pipeline import Pipeline\n",
        "from sklearn.linear_model import LinearRegression\n",
        "import numpy as np\n",
        "from sklearn.metrics import mean_squared_error\n",
        "from sklearn.metrics import mean_absolute_error"
      ]
    },
    {
      "cell_type": "code",
      "source": [
        "df = pd.read_csv('/content/housing_prices.csv')"
      ],
      "metadata": {
        "id": "QbfrpHCzRJwB"
      },
      "execution_count": null,
      "outputs": []
    },
    {
      "cell_type": "code",
      "source": [
        "print(df.head())"
      ],
      "metadata": {
        "colab": {
          "base_uri": "https://localhost:8080/"
        },
        "id": "y_sHjPirRWnI",
        "outputId": "ab834435-0f66-4c3d-f1ff-470be8e92664"
      },
      "execution_count": null,
      "outputs": [
        {
          "output_type": "stream",
          "name": "stdout",
          "text": [
            "      price  area  bedrooms  bathrooms  stories mainroad guestroom basement  \\\n",
            "0  13300000  7420         4          2        3      yes        no       no   \n",
            "1  12250000  8960         4          4        4      yes        no       no   \n",
            "2  12250000  9960         3          2        2      yes        no      yes   \n",
            "3  12215000  7500         4          2        2      yes        no      yes   \n",
            "4  11410000  7420         4          1        2      yes       yes      yes   \n",
            "\n",
            "  hotwaterheating airconditioning  parking prefarea furnishingstatus  \n",
            "0              no             yes        2      yes        furnished  \n",
            "1              no             yes        3       no        furnished  \n",
            "2              no              no        2      yes   semi-furnished  \n",
            "3              no             yes        3      yes        furnished  \n",
            "4              no             yes        2       no        furnished  \n"
          ]
        }
      ]
    },
    {
      "cell_type": "code",
      "source": [
        "print(df.isnull().sum())"
      ],
      "metadata": {
        "colab": {
          "base_uri": "https://localhost:8080/"
        },
        "id": "A2J4D1_-RZbV",
        "outputId": "d6dd711e-bcee-4851-c39c-cba8f33d906d"
      },
      "execution_count": null,
      "outputs": [
        {
          "output_type": "stream",
          "name": "stdout",
          "text": [
            "price               0\n",
            "area                0\n",
            "bedrooms            0\n",
            "bathrooms           0\n",
            "stories             0\n",
            "mainroad            0\n",
            "guestroom           0\n",
            "basement            0\n",
            "hotwaterheating     0\n",
            "airconditioning     0\n",
            "parking             0\n",
            "prefarea            0\n",
            "furnishingstatus    0\n",
            "dtype: int64\n"
          ]
        }
      ]
    },
    {
      "cell_type": "code",
      "source": [
        "df.columns"
      ],
      "metadata": {
        "colab": {
          "base_uri": "https://localhost:8080/"
        },
        "id": "AsgIMqVJRcDR",
        "outputId": "c7d73440-ce05-4c73-8c6d-4a194a13da55"
      },
      "execution_count": null,
      "outputs": [
        {
          "output_type": "execute_result",
          "data": {
            "text/plain": [
              "Index(['price', 'area', 'bedrooms', 'bathrooms', 'stories', 'mainroad',\n",
              "       'guestroom', 'basement', 'hotwaterheating', 'airconditioning',\n",
              "       'parking', 'prefarea', 'furnishingstatus'],\n",
              "      dtype='object')"
            ]
          },
          "metadata": {},
          "execution_count": 17
        }
      ]
    },
    {
      "cell_type": "code",
      "source": [
        "features = ['area', 'bedrooms', 'bathrooms', 'stories', 'mainroad', 'guestroom','basement', 'hotwaterheating', 'airconditioning', 'parking', 'prefarea', 'furnishingstatus']\n",
        "target = 'price'\n",
        "X = df[features]\n",
        "y = df[target]"
      ],
      "metadata": {
        "id": "rV3xfdkrRelE"
      },
      "execution_count": null,
      "outputs": []
    },
    {
      "cell_type": "code",
      "source": [
        "numerical_features = ['area', 'bedrooms', 'bathrooms', 'stories', 'parking']\n",
        "numerical_transformer = Pipeline(steps=[\n",
        "    ('imputer', SimpleImputer(strategy='median')),\n",
        "    ('scaler', StandardScaler())])"
      ],
      "metadata": {
        "id": "ze9u1uuiRm7A"
      },
      "execution_count": null,
      "outputs": []
    },
    {
      "cell_type": "code",
      "source": [
        "categorical_features = ['mainroad', 'guestroom', 'basement', 'hotwaterheating',\n",
        "                        'airconditioning', 'prefarea', 'furnishingstatus']\n",
        "categorical_transformer = Pipeline(steps=[\n",
        "    ('imputer', SimpleImputer(strategy='most_frequent')),\n",
        "    ('onehot', OneHotEncoder(handle_unknown='ignore'))])"
      ],
      "metadata": {
        "id": "7qfwxbPjRqLv"
      },
      "execution_count": null,
      "outputs": []
    },
    {
      "cell_type": "code",
      "source": [
        "preprocessor = ColumnTransformer(\n",
        "    transformers=[\n",
        "        ('num', numerical_transformer, numerical_features),\n",
        "        ('cat', categorical_transformer, categorical_features)])"
      ],
      "metadata": {
        "id": "d7DPz8BJRtwJ"
      },
      "execution_count": null,
      "outputs": []
    },
    {
      "cell_type": "code",
      "source": [
        "X_train, X_test, y_train, y_test = train_test_split(X, y, test_size=0.2, random_state=42)\n",
        "X_train = preprocessor.fit_transform(X_train)\n",
        "X_test = preprocessor.transform(X_test)"
      ],
      "metadata": {
        "id": "Wk5q6QysRxQk"
      },
      "execution_count": null,
      "outputs": []
    },
    {
      "cell_type": "code",
      "source": [
        "def evaluate_model(model, X_test, y_test):\n",
        "    predictions = model.predict(X_test)\n",
        "    rmse = np.sqrt(mean_squared_error(y_test, predictions))\n",
        "    mae = mean_absolute_error(y_test, predictions)\n",
        "    return rmse, mae"
      ],
      "metadata": {
        "id": "czqiCiuuR0Zx"
      },
      "execution_count": null,
      "outputs": []
    },
    {
      "cell_type": "code",
      "source": [
        "lr = LinearRegression()\n",
        "lr.fit(X_train, y_train)\n",
        "lr_rmse, lr_mae = evaluate_model(lr, X_test, y_test)"
      ],
      "metadata": {
        "id": "Fql1a700R4y0"
      },
      "execution_count": null,
      "outputs": []
    },
    {
      "cell_type": "code",
      "source": [
        "from sklearn.tree import DecisionTreeRegressor\n",
        "dt = DecisionTreeRegressor(random_state=42)\n",
        "dt.fit(X_train, y_train)\n",
        "dt_rmse, dt_mae = evaluate_model(dt, X_test, y_test)"
      ],
      "metadata": {
        "id": "RGyxW4Q8R9OO"
      },
      "execution_count": null,
      "outputs": []
    },
    {
      "cell_type": "code",
      "source": [
        "from sklearn.ensemble import RandomForestRegressor\n",
        "rf = RandomForestRegressor(random_state=42)\n",
        "rf.fit(X_train, y_train)\n",
        "rf_rmse, rf_mae = evaluate_model(rf, X_test, y_test)"
      ],
      "metadata": {
        "id": "Isv9K_UDS2xG"
      },
      "execution_count": null,
      "outputs": []
    },
    {
      "cell_type": "code",
      "source": [
        "print(f'Linear Regression RMSE: {lr_rmse}, MAE: {lr_mae}')\n",
        "print(f'Decision Tree Regression RMSE: {dt_rmse}, MAE: {dt_mae}')\n",
        "print(f'Random Forest Regression RMSE: {rf_rmse}, MAE: {rf_mae}')"
      ],
      "metadata": {
        "colab": {
          "base_uri": "https://localhost:8080/"
        },
        "id": "sUz1FvqBTLbB",
        "outputId": "d0525b9d-afbe-43df-81fd-c39a1f507eb7"
      },
      "execution_count": null,
      "outputs": [
        {
          "output_type": "stream",
          "name": "stdout",
          "text": [
            "Linear Regression RMSE: 1324506.9600914402, MAE: 970043.4039201644\n",
            "Decision Tree Regression RMSE: 1699626.144131854, MAE: 1234857.7981651376\n",
            "Random Forest Regression RMSE: 1403925.371676078, MAE: 1025961.1683486238\n"
          ]
        }
      ]
    },
    {
      "cell_type": "code",
      "source": [
        "results = {\n",
        "    'Model': ['Linear Regression', 'Decision Tree Regression', 'Random Forest Regression'],\n",
        "    'RMSE': [lr_rmse, dt_rmse, rf_rmse],\n",
        "    'MAE': [lr_mae, dt_mae, rf_mae]\n",
        "}"
      ],
      "metadata": {
        "id": "Zq-s8gJvTeK5"
      },
      "execution_count": null,
      "outputs": []
    },
    {
      "cell_type": "code",
      "source": [
        "results_df = pd.DataFrame(results)\n",
        "print(results_df)"
      ],
      "metadata": {
        "colab": {
          "base_uri": "https://localhost:8080/"
        },
        "id": "UAd44Ig4TuJ4",
        "outputId": "5d9d2b89-7cba-420b-edfb-9bd5b4a03479"
      },
      "execution_count": null,
      "outputs": [
        {
          "output_type": "stream",
          "name": "stdout",
          "text": [
            "                      Model          RMSE           MAE\n",
            "0         Linear Regression  1.324507e+06  9.700434e+05\n",
            "1  Decision Tree Regression  1.699626e+06  1.234858e+06\n",
            "2  Random Forest Regression  1.403925e+06  1.025961e+06\n"
          ]
        }
      ]
    },
    {
      "cell_type": "code",
      "source": [
        "best_model = rf  # Assuming Random Forest performed best\n",
        "print(f'The best-perforing model is: Random Forest Regression with RMSE: {rf_rmse} and MAE: {rf_mae}')"
      ],
      "metadata": {
        "colab": {
          "base_uri": "https://localhost:8080/"
        },
        "id": "Tu8lMj1xT0sx",
        "outputId": "b15de5cf-8984-4882-9973-0d991fd91778"
      },
      "execution_count": null,
      "outputs": [
        {
          "output_type": "stream",
          "name": "stdout",
          "text": [
            "The best-performing model is: Random Forest Regression with RMSE: 1403925.371676078 and MAE: 1025961.1683486238\n"
          ]
        }
      ]
    },
    {
      "cell_type": "code",
      "source": [
        "from sklearn.metrics import accuracy_score\n"
      ],
      "metadata": {
        "id": "xxbTsMuaUI7-"
      },
      "execution_count": null,
      "outputs": []
    },
    {
      "cell_type": "code",
      "source": [
        "import numpy as np\n",
        "threshold = 0.1\n",
        "predictions = rf.predict(X_test)\n",
        "absolute_error = np.abs(predictions - y_test) / y_test\n",
        "accuracy = np.mean(absolute_error <= threshold) * 100\n",
        "print(f'Accuracy: {accuracy:.2f}%')\n",
        "\n"
      ],
      "metadata": {
        "colab": {
          "base_uri": "https://localhost:8080/"
        },
        "id": "7gUBlKgfXeKK",
        "outputId": "85abbdfd-74f7-494f-e23e-f1ee11373d57"
      },
      "execution_count": null,
      "outputs": [
        {
          "output_type": "stream",
          "name": "stdout",
          "text": [
            "Accuracy: 32.11%\n"
          ]
        }
      ]
    },
    {
      "cell_type": "code",
      "source": [
        "import numpy as np\n",
        "threshold = 0.1\n",
        "predictions = dt.predict(X_test)\n",
        "absolute_error = np.abs(predictions - y_test) / y_test\n",
        "accuracy = np.mean(absolute_error <= threshold) * 100\n",
        "print(f'Accuracy: {accuracy:.2f}%')"
      ],
      "metadata": {
        "colab": {
          "base_uri": "https://localhost:8080/"
        },
        "id": "Gn8BHi0Oa1Dj",
        "outputId": "25f5236f-f161-4f75-b9ee-1b74dba65d73"
      },
      "execution_count": null,
      "outputs": [
        {
          "output_type": "stream",
          "name": "stdout",
          "text": [
            "Accuracy: 31.19%\n"
          ]
        }
      ]
    },
    {
      "cell_type": "code",
      "source": [
        "import numpy as np\n",
        "threshold = 0.1\n",
        "predictions = lr.predict(X_test)\n",
        "absolute_error = np.abs(predictions - y_test) / y_test\n",
        "accuracy = np.mean(absolute_error <= threshold) * 100\n",
        "print(f'Accuracy: {accuracy:.2f}%')"
      ],
      "metadata": {
        "colab": {
          "base_uri": "https://localhost:8080/"
        },
        "id": "nowIjn8AbF4r",
        "outputId": "ac942862-8a4e-4741-bda0-3eb9d19b3585"
      },
      "execution_count": null,
      "outputs": [
        {
          "output_type": "stream",
          "name": "stdout",
          "text": [
            "Accuracy: 34.86%\n"
          ]
        }
      ]
    },
    {
      "cell_type": "code",
      "source": [
        "import numpy as np\n",
        "from sklearn.linear_model import LinearRegression\n",
        "from sklearn.metrics import r2_score\n",
        "X = np.array([[1], [2], [3], [4], [5]])\n",
        "y = np.array([1.1, 1.9, 3.2, 4.0, 5.1])\n",
        "model = LinearRegression()\n",
        "model.fit(X, y)\n",
        "y_pred = model.predict(X)\n",
        "r_squared = r2_score(y, y_pred)\n",
        "print(\"R-squared:\", r_squared)"
      ],
      "metadata": {
        "colab": {
          "base_uri": "https://localhost:8080/"
        },
        "id": "5OsEllP2muDp",
        "outputId": "d3f5beda-2107-4750-e4d0-f1b181285f1a"
      },
      "execution_count": null,
      "outputs": [
        {
          "output_type": "stream",
          "name": "stdout",
          "text": [
            "R-squared: 0.9950253609051892\n"
          ]
        }
      ]
    },
    {
      "cell_type": "code",
      "source": [
        "from sklearn.tree import DecisionTreeRegressor\n",
        "from sklearn.metrics import r2_score\n",
        "X = np.array([[1], [2], [3], [4], [5]])\n",
        "y = np.array([1.1, 1.9, 3.2, 4.0, 5.1])\n",
        "model =DecisionTreeRegressor()\n",
        "model.fit(X, y)\n",
        "y_pred = model.predict(X)\n",
        "r_squared = r2_score(y, y_pred)\n",
        "print(\"R-squared:\", r_squared)"
      ],
      "metadata": {
        "colab": {
          "base_uri": "https://localhost:8080/"
        },
        "id": "VJWByRdxnj5r",
        "outputId": "973fac0a-b178-43b2-8958-ca039f02ae5f"
      },
      "execution_count": null,
      "outputs": [
        {
          "output_type": "stream",
          "name": "stdout",
          "text": [
            "R-squared: 1.0\n"
          ]
        }
      ]
    },
    {
      "cell_type": "code",
      "source": [
        "from sklearn.ensemble import RandomForestRegressor\n",
        "from sklearn.metrics import r2_score\n",
        "X = np.array([[1], [2], [3], [4], [5]])\n",
        "y = np.array([1.1, 1.9, 3.2, 4.0, 5.1])\n",
        "model =RandomForestRegressor()\n",
        "model.fit(X, y)\n",
        "y_pred = model.predict(X)\n",
        "r_squared = r2_score(y, y_pred)\n",
        "print(\"R-squared:\", r_squared)"
      ],
      "metadata": {
        "colab": {
          "base_uri": "https://localhost:8080/"
        },
        "id": "wEzSMAx2ns5C",
        "outputId": "54e23f2d-4766-4754-a5c0-79f3947a355b"
      },
      "execution_count": null,
      "outputs": [
        {
          "output_type": "stream",
          "name": "stdout",
          "text": [
            "R-squared: 0.9616947912602423\n"
          ]
        }
      ]
    },
    {
      "cell_type": "code",
      "source": [],
      "metadata": {
        "id": "wbdE1CZmnw_A"
      },
      "execution_count": null,
      "outputs": []
    }
  ]
}